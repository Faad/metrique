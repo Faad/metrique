{
 "metadata": {
  "name": "Think Stats - Excersizes"
 },
 "nbformat": 3,
 "nbformat_minor": 0,
 "worksheets": [
  {
   "cells": [
    {
     "cell_type": "markdown",
     "metadata": {},
     "source": "**Visit http://thinkstats.com/nsfg.html. Read/Accept the terms of use for this data**"
    },
    {
     "cell_type": "code",
     "collapsed": false,
     "input": "!cd ~/.metrique/repos   # files and such will be downloaded here...",
     "language": "python",
     "metadata": {},
     "outputs": []
    },
    {
     "cell_type": "code",
     "collapsed": false,
     "input": "fem_preg = 'http://greenteapress.com/thinkstats/2002FemPreg.dat.gz'\nfem_resp = 'http://greenteapress.com/thinkstats/2002FemResp.dat.gz'\nmale = 'http://greenteapress.com/thinkstats/2002Male.dat.gz'",
     "language": "python",
     "metadata": {},
     "outputs": []
    },
    {
     "cell_type": "markdown",
     "metadata": {},
     "source": "Imports"
    },
    {
     "cell_type": "code",
     "collapsed": false,
     "input": "from collections import defaultdict\nimport os\nimport matplotlib.pyplot as plt\nimport pandas as pd\nimport urllib\nimport metrique as m",
     "language": "python",
     "metadata": {},
     "outputs": []
    },
    {
     "cell_type": "markdown",
     "metadata": {},
     "source": "Download the various Think Stats (TT) datasets (assuming you agreed to the terms)"
    },
    {
     "cell_type": "code",
     "collapsed": false,
     "input": "uris = (fem_preg, fem_resp, male)\nfor f in uris:\n    bf = os.path.basename(f)\n    if not os.path.exists(bf):\n        urllib.urlretrieve(f, bf)",
     "language": "python",
     "metadata": {},
     "outputs": []
    },
    {
     "cell_type": "markdown",
     "metadata": {},
     "source": "Download the TT `survey.py` for parsing the .dat files being distributed"
    },
    {
     "cell_type": "code",
     "collapsed": false,
     "input": "survey = 'http://greenteapress.com/thinkstats/survey.py'\nif not os.path.exists(os.path.basename(survey)):\n    urllib.urlretrieve(survey, 'survey.py')",
     "language": "python",
     "metadata": {},
     "outputs": []
    },
    {
     "cell_type": "markdown",
     "metadata": {},
     "source": "  Test to see if it works"
    },
    {
     "cell_type": "code",
     "collapsed": false,
     "input": "!python survey.py",
     "language": "python",
     "metadata": {},
     "outputs": []
    },
    {
     "cell_type": "markdown",
     "metadata": {},
     "source": "**Exercise 1-3 (Pg7)**"
    },
    {
     "cell_type": "markdown",
     "metadata": {},
     "source": "Using `survey.py`, read all `pregnancy` records and convert them to a list of dict"
    },
    {
     "cell_type": "code",
     "collapsed": false,
     "input": "import survey\npregs = survey.Pregnancies()\npregs.ReadRecords()\npregs = pregs.records\npregs = [r.__dict__ for r in pregs]\n_ = [o.update({'_oid': i}) for i, o in enumerate(pregs)]\n\nresps = survey.Respondents()\nresps.ReadRecords()\nresps = resps.records\nresps = [r.__dict__ for r in resps]\n_ = [o.update({'_oid': i}) for i, o in enumerate(resps)]",
     "language": "python",
     "metadata": {},
     "outputs": []
    },
    {
     "cell_type": "markdown",
     "metadata": {},
     "source": "Create a new cube and alias its pandas.dataframe form"
    },
    {
     "cell_type": "code",
     "collapsed": false,
     "input": "import metrique as m\n_pregs = m.pyclient(objects=pregs, name='pregs_2002')\n_pregs[0]\n_pregs.df",
     "language": "python",
     "metadata": {},
     "outputs": []
    },
    {
     "cell_type": "code",
     "collapsed": false,
     "input": "_resps = m.pyclient(objects=resps, name='resps_2002')\n_resps[0]\n_resps.df",
     "language": "python",
     "metadata": {},
     "outputs": []
    },
    {
     "cell_type": "code",
     "collapsed": false,
     "input": "df = _pregs.df\npregs_k = len(_pregs.df)\nbirths_k = len(_pregs.df[_pregs.df.outcome == 1])\nfirst_borns = _pregs.df[_pregs.df.birthord == 1]\nnot_first_borns = df[_pregs.df.birthord != 1]\n\nresps_k = len(_resps.df)",
     "language": "python",
     "metadata": {},
     "outputs": []
    },
    {
     "cell_type": "code",
     "collapsed": false,
     "input": "print 'pregnancies: %s' % pregs_k, \nprint 'live births: %s (%s%%)' % (births_k, int(float(births_k)/pregs_k*100))\nprint 'respondents: %s' % resps_k",
     "language": "python",
     "metadata": {},
     "outputs": []
    },
    {
     "cell_type": "code",
     "collapsed": false,
     "input": "fb_len_mean = first_borns.prglength.mean()\nfb_20 = first_borns.prglength[first_borns.prglength > 20]",
     "language": "python",
     "metadata": {},
     "outputs": []
    },
    {
     "cell_type": "code",
     "collapsed": false,
     "input": "nfb_len_mean = not_first_borns.prglength.mean()\nnfb_20 = not_first_borns.prglength[not_first_borns.prglength > 20]",
     "language": "python",
     "metadata": {},
     "outputs": []
    },
    {
     "cell_type": "code",
     "collapsed": false,
     "input": "not_first_borns.prglength.hist()\nfirst_borns.prglength.hist()",
     "language": "python",
     "metadata": {},
     "outputs": []
    },
    {
     "cell_type": "code",
     "collapsed": false,
     "input": "print 'first borns:', first_borns.prglength.describe()\nprint\nprint 'not first borns:', not_first_borns.prglength.describe()",
     "language": "python",
     "metadata": {},
     "outputs": []
    },
    {
     "cell_type": "markdown",
     "metadata": {},
     "source": "**Excersize 2-5**"
    },
    {
     "cell_type": "code",
     "collapsed": false,
     "input": "# include only records where prglength > 20, as < 20 seems \"unlikely\" \nplt.figure()\nfb_20.hist(bins=30, label='1')\nnfb_20.hist(bins=30, label='>=2')\nplt.legend()",
     "language": "python",
     "metadata": {},
     "outputs": []
    },
    {
     "cell_type": "code",
     "collapsed": false,
     "input": "",
     "language": "python",
     "metadata": {},
     "outputs": []
    },
    {
     "cell_type": "code",
     "collapsed": false,
     "input": "",
     "language": "python",
     "metadata": {},
     "outputs": []
    }
   ],
   "metadata": {}
  }
 ]
}