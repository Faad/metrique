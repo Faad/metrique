{
 "metadata": {
  "name": ""
 },
 "nbformat": 3,
 "nbformat_minor": 0,
 "worksheets": [
  {
   "cells": [
    {
     "cell_type": "code",
     "collapsed": false,
     "input": [
      "from metrique import pyclient  # main api interface"
     ],
     "language": "python",
     "metadata": {},
     "outputs": []
    },
    {
     "cell_type": "code",
     "collapsed": false,
     "input": [
      "m = pyclient()  # cube api"
     ],
     "language": "python",
     "metadata": {},
     "outputs": []
    },
    {
     "cell_type": "code",
     "collapsed": false,
     "input": [
      "osinfo_rpm = m.get_cube('osinfo_rpm')  # find and initialize the osinfo_rpm cube\n",
      "#rpms = m.get_cube('osinfo_rpm', ssh_host='HOSTNAME')  # works with external hosts via ssh too"
     ],
     "language": "python",
     "metadata": {},
     "outputs": []
    },
    {
     "cell_type": "code",
     "collapsed": false,
     "input": [
      "objects = osinfo_rpm.get_objects()  # run the rpm -qa ... and build a list of dicts with the info we seek"
     ],
     "language": "python",
     "metadata": {},
     "outputs": []
    },
    {
     "cell_type": "code",
     "collapsed": false,
     "input": [
      "print 'Total RPMs: %s' % len(objects)\n",
      "print 'Example Object:'\n",
      "objects[0]"
     ],
     "language": "python",
     "metadata": {},
     "outputs": []
    },
    {
     "cell_type": "markdown",
     "metadata": {},
     "source": [
      "**When connected to a metriqued server, data can be persisted and queried**"
     ]
    },
    {
     "cell_type": "code",
     "collapsed": false,
     "input": [
      "config_file = '~/.metrique/etc/metrique.json'  # default config location\n",
      "m = pyclient(config_file=config_file)\n",
      "osinfo_rpm = m.get_cube('osinfo_rpm')"
     ],
     "language": "python",
     "metadata": {},
     "outputs": []
    },
    {
     "cell_type": "code",
     "collapsed": false,
     "input": [
      "osinfo_rpm.cube_register()  # (run once) register the new cube with the metriqued host"
     ],
     "language": "python",
     "metadata": {},
     "outputs": []
    },
    {
     "cell_type": "code",
     "collapsed": false,
     "input": [
      "ids = osinfo_rpm.extract()  # alias for get_objects + save_objects"
     ],
     "language": "python",
     "metadata": {},
     "outputs": []
    },
    {
     "cell_type": "code",
     "collapsed": false,
     "input": [
      "osinfo_rpm.count()"
     ],
     "language": "python",
     "metadata": {},
     "outputs": []
    },
    {
     "cell_type": "code",
     "collapsed": false,
     "input": [
      "df = osinfo_rpm.find('host == regex(\"^cward.brq\")', fields='nvra', date='~', limit=1)\n",
      "# date uses _start; enables easy historical querying\n",
      "df.head()"
     ],
     "language": "python",
     "metadata": {},
     "outputs": []
    },
    {
     "cell_type": "code",
     "collapsed": false,
     "input": [
      "df = osinfo_rpm.find(fields='license')\n",
      "threshold = 5\n",
      "license_k = df.groupby('license').apply(len)\n",
      "license_k.sort()\n",
      "subset = license_k[license_k >= threshold]"
     ],
     "language": "python",
     "metadata": {},
     "outputs": []
    },
    {
     "cell_type": "code",
     "collapsed": false,
     "input": [
      "# shorten the names a bit\n",
      "subset.index = [i[0:20] + '...' if len(i) > 20 else i for i in subset.index]"
     ],
     "language": "python",
     "metadata": {},
     "outputs": []
    },
    {
     "cell_type": "code",
     "collapsed": false,
     "input": [
      "subset.plot(kind='bar')"
     ],
     "language": "python",
     "metadata": {},
     "outputs": []
    }
   ],
   "metadata": {}
  }
 ]
}