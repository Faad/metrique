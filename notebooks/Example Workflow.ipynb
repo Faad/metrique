{
 "metadata": {
  "name": ""
 },
 "nbformat": 3,
 "nbformat_minor": 0,
 "worksheets": [
  {
   "cells": [
    {
     "cell_type": "code",
     "collapsed": false,
     "input": [
      "from pql import *\n",
      "from IPython.display import HTML\n",
      "import requests\n",
      "import urllib\n",
      "import os\n",
      "from metrique import pyclient\n",
      "from metrique.utils import batch_gen, dt2ts\n",
      "from metrique.jsonconf import JSONConf"
     ],
     "language": "python",
     "metadata": {},
     "outputs": [],
     "prompt_number": 51
    },
    {
     "cell_type": "code",
     "collapsed": false,
     "input": [
      "# SIMPLE DEFAULTS\n",
      "config = {\n",
      " 'host': '127.0.0.1',\n",
      " 'ssl': False,\n",
      " 'ssl_verify': False,\n",
      " 'password': 'YOUR_PASSWORD',\n",
      " 'debug': True\n",
      "}"
     ],
     "language": "python",
     "metadata": {},
     "outputs": []
    },
    {
     "cell_type": "code",
     "collapsed": false,
     "input": [
      "# load the pyclient interface (load cubes, extract data, query, etc)\n",
      "m = pyclient(**config)"
     ],
     "language": "python",
     "metadata": {},
     "outputs": []
    },
    {
     "cell_type": "code",
     "collapsed": false,
     "input": [
      "# register user\n",
      "#m.user_register(password='YOUR_PASSWORD')  # run once"
     ],
     "language": "python",
     "metadata": {},
     "outputs": []
    },
    {
     "cell_type": "code",
     "collapsed": false,
     "input": [
      "m.ping(auth=True)"
     ],
     "language": "python",
     "metadata": {},
     "outputs": []
    },
    {
     "cell_type": "code",
     "collapsed": false,
     "input": [
      "m.cube_list_all()"
     ],
     "language": "python",
     "metadata": {},
     "outputs": []
    },
    {
     "cell_type": "code",
     "collapsed": false,
     "input": [
      "tmp = '/tmp'\n",
      "uri = 'https://commondatastorage.googleapis.com/ckannet-storage/2012-03-03T021709/environment.csv'\n",
      "saved_uri = os.path.join(tmp, os.path.basename(uri))\n",
      "# cache the file locally (not absolutely necessary)\n",
      "if not os.path.exists(saved_uri):\n",
      "    urllib.urlretrieve(uri, saved_uri)\n",
      "\n",
      "csv = m.get_cube('csvdata_rows', name='environmental_data', batch_size=1000)"
     ],
     "language": "python",
     "metadata": {},
     "outputs": []
    },
    {
     "cell_type": "code",
     "collapsed": false,
     "input": [
      "#csv.cube_register()  # run once\n",
      "m.cube_list_all()  # should show ['USER__environment_data']"
     ],
     "language": "python",
     "metadata": {},
     "outputs": []
    },
    {
     "cell_type": "code",
     "collapsed": false,
     "input": [
      "# each object needs a unique 'object id'; we'll use country + year\n",
      "_oid = lambda o: '_'.join((o['country_name'], o['year']))\n",
      "# this is historical data, we'll override the implicit timestamps using year data\n",
      "_start = lambda o: dt2ts('%s-01-01' % o['year'])\n",
      "# extract the data and get back a list of the ids extracts ok/failed\n",
      "saved = csv.extract(uri=saved_uri, _oid=_oid, _start=_start)\n",
      "# note, extracting the same data 1+ times will only save 1 version of every object (row)"
     ],
     "language": "python",
     "metadata": {},
     "outputs": []
    },
    {
     "cell_type": "code",
     "collapsed": false,
     "input": [
      "result = csv.cube_index('country_name')"
     ],
     "language": "python",
     "metadata": {},
     "outputs": []
    },
    {
     "cell_type": "code",
     "collapsed": false,
     "input": [
      "%time df = csv.query_sample(fields='country_name')"
     ],
     "language": "python",
     "metadata": {},
     "outputs": []
    },
    {
     "cell_type": "code",
     "collapsed": false,
     "input": [
      "%time fields = csv.cube_sample_fields()"
     ],
     "language": "python",
     "metadata": {},
     "outputs": []
    },
    {
     "cell_type": "code",
     "collapsed": false,
     "input": [
      "%time countries = csv.distinct('country_name')"
     ],
     "language": "python",
     "metadata": {},
     "outputs": []
    },
    {
     "cell_type": "code",
     "collapsed": false,
     "input": [
      "z = csv.find(fields='country_name, population_in_largest_city, population_density_(people_per_sq_km_of_land_area)')\n",
      "z[z.country_name == 'United States'].plot(x='_start', y='population_in_largest_city')"
     ],
     "language": "python",
     "metadata": {},
     "outputs": []
    },
    {
     "cell_type": "code",
     "collapsed": false,
     "input": [
      "z[z.country_name == 'United States'].plot(x='_start', y='population_density_(people_per_sq_km_of_land_area)')"
     ],
     "language": "python",
     "metadata": {},
     "outputs": []
    },
    {
     "cell_type": "code",
     "collapsed": false,
     "input": [],
     "language": "python",
     "metadata": {},
     "outputs": []
    }
   ],
   "metadata": {}
  }
 ]
}
